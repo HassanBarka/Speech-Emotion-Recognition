{
 "cells": [
  {
   "cell_type": "markdown",
   "id": "96752079-be5c-4feb-bb7f-570e47badc34",
   "metadata": {},
   "source": [
    "### Importation de bibliotheque"
   ]
  },
  {
   "cell_type": "code",
   "execution_count": 1,
   "id": "df0db4c2-f6e4-4de3-824a-feac02816a3b",
   "metadata": {},
   "outputs": [],
   "source": [
    "import sys\n",
    "import warnings\n",
    "if not sys.warnoptions:\n",
    "    warnings.simplefilter(\"ignore\")\n",
    "warnings.filterwarnings(\"ignore\", category=DeprecationWarning)"
   ]
  },
  {
   "cell_type": "code",
   "execution_count": 2,
   "id": "957608de-2cd7-41d7-b36f-222126912b82",
   "metadata": {},
   "outputs": [
    {
     "name": "stderr",
     "output_type": "stream",
     "text": [
      "2024-04-23 23:37:03.445318: I tensorflow/core/platform/cpu_feature_guard.cc:193] This TensorFlow binary is optimized with oneAPI Deep Neural Network Library (oneDNN) to use the following CPU instructions in performance-critical operations:  AVX2 FMA\n",
      "To enable them in other operations, rebuild TensorFlow with the appropriate compiler flags.\n",
      "2024-04-23 23:37:17.914129: W tensorflow/compiler/xla/stream_executor/platform/default/dso_loader.cc:64] Could not load dynamic library 'libnvinfer.so.7'; dlerror: libnvinfer.so.7: cannot open shared object file: No such file or directory; LD_LIBRARY_PATH: /usr/local/cuda-11.8/lib64:/usr/local/cuda-11.8/lib64:/usr/local/cuda-11.8/lib64:/usr/local/cuda-11.8/lib64:/home/hassouni/miniconda3/envs/tf/lib/\n",
      "2024-04-23 23:37:17.914490: W tensorflow/compiler/xla/stream_executor/platform/default/dso_loader.cc:64] Could not load dynamic library 'libnvinfer_plugin.so.7'; dlerror: libnvinfer_plugin.so.7: cannot open shared object file: No such file or directory; LD_LIBRARY_PATH: /usr/local/cuda-11.8/lib64:/usr/local/cuda-11.8/lib64:/usr/local/cuda-11.8/lib64:/usr/local/cuda-11.8/lib64:/home/hassouni/miniconda3/envs/tf/lib/\n",
      "2024-04-23 23:37:17.914525: W tensorflow/compiler/tf2tensorrt/utils/py_utils.cc:38] TF-TRT Warning: Cannot dlopen some TensorRT libraries. If you would like to use Nvidia GPU with TensorRT, please make sure the missing libraries mentioned above are installed properly.\n"
     ]
    }
   ],
   "source": [
    "import os\n",
    "import joblib\n",
    "import itertools\n",
    "import numpy as np\n",
    "import pandas as pd\n",
    "import seaborn as sns\n",
    "import tensorflow as tf\n",
    "import matplotlib.pyplot as plt\n",
    "from keras.callbacks import EarlyStopping\n",
    "from tensorflow.keras import layers, models\n",
    "from sklearn.metrics import confusion_matrix\n",
    "from keras.callbacks import ReduceLROnPlateau\n",
    "from tensorflow.keras.optimizers import Adam,RMSprop \n",
    "from sklearn.model_selection import train_test_split\n",
    "from sklearn.preprocessing import LabelEncoder, StandardScaler, OneHotEncoder"
   ]
  },
  {
   "cell_type": "markdown",
   "id": "72bdb9c1-3524-4f27-ac39-bb68fcae1236",
   "metadata": {},
   "source": [
    "### Modeling"
   ]
  },
  {
   "cell_type": "markdown",
   "id": "904b7d10-a908-4c95-be12-25bd422f1f1e",
   "metadata": {},
   "source": [
    "##### 1. Data preprocessing"
   ]
  },
  {
   "cell_type": "code",
   "execution_count": 3,
   "id": "2b49086e-e28a-453f-a6a6-087b3d51aebc",
   "metadata": {},
   "outputs": [
    {
     "data": {
      "text/plain": [
       "(48648, 2377)"
      ]
     },
     "execution_count": 3,
     "metadata": {},
     "output_type": "execute_result"
    }
   ],
   "source": [
    "df = pd.read_csv('features.csv')\n",
    "df.shape"
   ]
  },
  {
   "cell_type": "code",
   "execution_count": 4,
   "id": "57f6b92f-a371-4def-8279-071fc7020a80",
   "metadata": {},
   "outputs": [
    {
     "name": "stdout",
     "output_type": "stream",
     "text": [
      "0         False\n",
      "1         False\n",
      "2         False\n",
      "3         False\n",
      "4         False\n",
      "          ...  \n",
      "2372      False\n",
      "2373      False\n",
      "2374      False\n",
      "2375      False\n",
      "labels    False\n",
      "Length: 2377, dtype: bool\n"
     ]
    }
   ],
   "source": [
    "# Fill NaN with 0\n",
    "df = df.fillna(0)\n",
    "print(df.isna().any())"
   ]
  },
  {
   "cell_type": "code",
   "execution_count": 5,
   "id": "1878a4d3-863e-48ba-8564-01bdc36ad9c2",
   "metadata": {},
   "outputs": [
    {
     "data": {
      "text/html": [
       "<div>\n",
       "<style scoped>\n",
       "    .dataframe tbody tr th:only-of-type {\n",
       "        vertical-align: middle;\n",
       "    }\n",
       "\n",
       "    .dataframe tbody tr th {\n",
       "        vertical-align: top;\n",
       "    }\n",
       "\n",
       "    .dataframe thead th {\n",
       "        text-align: right;\n",
       "    }\n",
       "</style>\n",
       "<table border=\"1\" class=\"dataframe\">\n",
       "  <thead>\n",
       "    <tr style=\"text-align: right;\">\n",
       "      <th></th>\n",
       "      <th>0</th>\n",
       "      <th>1</th>\n",
       "      <th>2</th>\n",
       "      <th>3</th>\n",
       "      <th>4</th>\n",
       "      <th>5</th>\n",
       "      <th>6</th>\n",
       "      <th>7</th>\n",
       "      <th>8</th>\n",
       "      <th>9</th>\n",
       "      <th>...</th>\n",
       "      <th>2367</th>\n",
       "      <th>2368</th>\n",
       "      <th>2369</th>\n",
       "      <th>2370</th>\n",
       "      <th>2371</th>\n",
       "      <th>2372</th>\n",
       "      <th>2373</th>\n",
       "      <th>2374</th>\n",
       "      <th>2375</th>\n",
       "      <th>labels</th>\n",
       "    </tr>\n",
       "  </thead>\n",
       "  <tbody>\n",
       "    <tr>\n",
       "      <th>0</th>\n",
       "      <td>0.343262</td>\n",
       "      <td>0.448730</td>\n",
       "      <td>0.500000</td>\n",
       "      <td>0.472168</td>\n",
       "      <td>0.376953</td>\n",
       "      <td>0.439453</td>\n",
       "      <td>0.539551</td>\n",
       "      <td>0.511230</td>\n",
       "      <td>0.388184</td>\n",
       "      <td>0.299316</td>\n",
       "      <td>...</td>\n",
       "      <td>0.000000</td>\n",
       "      <td>0.000000</td>\n",
       "      <td>0.000000</td>\n",
       "      <td>0.000000</td>\n",
       "      <td>0.000000</td>\n",
       "      <td>0.000000</td>\n",
       "      <td>0.000000</td>\n",
       "      <td>0.000000</td>\n",
       "      <td>0.000000</td>\n",
       "      <td>surprise</td>\n",
       "    </tr>\n",
       "    <tr>\n",
       "      <th>1</th>\n",
       "      <td>0.237305</td>\n",
       "      <td>0.352051</td>\n",
       "      <td>0.480957</td>\n",
       "      <td>0.489258</td>\n",
       "      <td>0.499023</td>\n",
       "      <td>0.502930</td>\n",
       "      <td>0.502930</td>\n",
       "      <td>0.510254</td>\n",
       "      <td>0.506836</td>\n",
       "      <td>0.517578</td>\n",
       "      <td>...</td>\n",
       "      <td>-1.159168</td>\n",
       "      <td>-2.651012</td>\n",
       "      <td>-0.238043</td>\n",
       "      <td>1.710331</td>\n",
       "      <td>3.874244</td>\n",
       "      <td>3.927960</td>\n",
       "      <td>3.870702</td>\n",
       "      <td>2.359449</td>\n",
       "      <td>-1.600155</td>\n",
       "      <td>surprise</td>\n",
       "    </tr>\n",
       "    <tr>\n",
       "      <th>2</th>\n",
       "      <td>0.040527</td>\n",
       "      <td>0.081543</td>\n",
       "      <td>0.097168</td>\n",
       "      <td>0.097656</td>\n",
       "      <td>0.083984</td>\n",
       "      <td>0.067871</td>\n",
       "      <td>0.111328</td>\n",
       "      <td>0.174805</td>\n",
       "      <td>0.253418</td>\n",
       "      <td>0.312500</td>\n",
       "      <td>...</td>\n",
       "      <td>0.000000</td>\n",
       "      <td>0.000000</td>\n",
       "      <td>0.000000</td>\n",
       "      <td>0.000000</td>\n",
       "      <td>0.000000</td>\n",
       "      <td>0.000000</td>\n",
       "      <td>0.000000</td>\n",
       "      <td>0.000000</td>\n",
       "      <td>0.000000</td>\n",
       "      <td>surprise</td>\n",
       "    </tr>\n",
       "    <tr>\n",
       "      <th>3</th>\n",
       "      <td>0.150879</td>\n",
       "      <td>0.209961</td>\n",
       "      <td>0.234863</td>\n",
       "      <td>0.159180</td>\n",
       "      <td>0.112305</td>\n",
       "      <td>0.090820</td>\n",
       "      <td>0.163574</td>\n",
       "      <td>0.262207</td>\n",
       "      <td>0.368652</td>\n",
       "      <td>0.443848</td>\n",
       "      <td>...</td>\n",
       "      <td>0.000000</td>\n",
       "      <td>0.000000</td>\n",
       "      <td>0.000000</td>\n",
       "      <td>0.000000</td>\n",
       "      <td>0.000000</td>\n",
       "      <td>0.000000</td>\n",
       "      <td>0.000000</td>\n",
       "      <td>0.000000</td>\n",
       "      <td>0.000000</td>\n",
       "      <td>surprise</td>\n",
       "    </tr>\n",
       "    <tr>\n",
       "      <th>4</th>\n",
       "      <td>0.000000</td>\n",
       "      <td>0.000000</td>\n",
       "      <td>0.000000</td>\n",
       "      <td>0.000000</td>\n",
       "      <td>0.000000</td>\n",
       "      <td>0.000000</td>\n",
       "      <td>0.000000</td>\n",
       "      <td>0.000000</td>\n",
       "      <td>0.024414</td>\n",
       "      <td>0.080078</td>\n",
       "      <td>...</td>\n",
       "      <td>-1.461556</td>\n",
       "      <td>-4.752707</td>\n",
       "      <td>-3.807003</td>\n",
       "      <td>1.825411</td>\n",
       "      <td>1.365022</td>\n",
       "      <td>-2.007692</td>\n",
       "      <td>-1.409204</td>\n",
       "      <td>0.004334</td>\n",
       "      <td>-0.162669</td>\n",
       "      <td>neutral</td>\n",
       "    </tr>\n",
       "    <tr>\n",
       "      <th>5</th>\n",
       "      <td>0.248535</td>\n",
       "      <td>0.370605</td>\n",
       "      <td>0.499023</td>\n",
       "      <td>0.488770</td>\n",
       "      <td>0.486816</td>\n",
       "      <td>0.491211</td>\n",
       "      <td>0.480957</td>\n",
       "      <td>0.491211</td>\n",
       "      <td>0.487793</td>\n",
       "      <td>0.484375</td>\n",
       "      <td>...</td>\n",
       "      <td>1.029761</td>\n",
       "      <td>-1.071905</td>\n",
       "      <td>-2.751098</td>\n",
       "      <td>-2.249093</td>\n",
       "      <td>1.726952</td>\n",
       "      <td>-0.287437</td>\n",
       "      <td>-0.339736</td>\n",
       "      <td>-2.203024</td>\n",
       "      <td>-6.504035</td>\n",
       "      <td>neutral</td>\n",
       "    </tr>\n",
       "    <tr>\n",
       "      <th>6</th>\n",
       "      <td>0.000000</td>\n",
       "      <td>0.000000</td>\n",
       "      <td>0.000000</td>\n",
       "      <td>0.000000</td>\n",
       "      <td>0.000000</td>\n",
       "      <td>0.018066</td>\n",
       "      <td>0.171875</td>\n",
       "      <td>0.291016</td>\n",
       "      <td>0.400391</td>\n",
       "      <td>0.500488</td>\n",
       "      <td>...</td>\n",
       "      <td>-0.122060</td>\n",
       "      <td>-0.169449</td>\n",
       "      <td>-0.269932</td>\n",
       "      <td>-0.237582</td>\n",
       "      <td>0.063637</td>\n",
       "      <td>0.434990</td>\n",
       "      <td>0.586418</td>\n",
       "      <td>0.597823</td>\n",
       "      <td>0.815498</td>\n",
       "      <td>neutral</td>\n",
       "    </tr>\n",
       "    <tr>\n",
       "      <th>7</th>\n",
       "      <td>0.252930</td>\n",
       "      <td>0.372559</td>\n",
       "      <td>0.497559</td>\n",
       "      <td>0.490234</td>\n",
       "      <td>0.490723</td>\n",
       "      <td>0.509766</td>\n",
       "      <td>0.519531</td>\n",
       "      <td>0.528809</td>\n",
       "      <td>0.523926</td>\n",
       "      <td>0.515137</td>\n",
       "      <td>...</td>\n",
       "      <td>1.635882</td>\n",
       "      <td>1.303709</td>\n",
       "      <td>-2.683839</td>\n",
       "      <td>0.486808</td>\n",
       "      <td>-0.231289</td>\n",
       "      <td>-3.244521</td>\n",
       "      <td>-0.897827</td>\n",
       "      <td>0.241259</td>\n",
       "      <td>-0.361168</td>\n",
       "      <td>neutral</td>\n",
       "    </tr>\n",
       "    <tr>\n",
       "      <th>8</th>\n",
       "      <td>0.256348</td>\n",
       "      <td>0.381836</td>\n",
       "      <td>0.517578</td>\n",
       "      <td>0.519531</td>\n",
       "      <td>0.518555</td>\n",
       "      <td>0.516602</td>\n",
       "      <td>0.516602</td>\n",
       "      <td>0.506348</td>\n",
       "      <td>0.504883</td>\n",
       "      <td>0.506836</td>\n",
       "      <td>...</td>\n",
       "      <td>-2.800925</td>\n",
       "      <td>-20.028423</td>\n",
       "      <td>-22.917688</td>\n",
       "      <td>-6.553454</td>\n",
       "      <td>1.511625</td>\n",
       "      <td>-7.332297</td>\n",
       "      <td>-8.524702</td>\n",
       "      <td>4.480391</td>\n",
       "      <td>10.784654</td>\n",
       "      <td>angry</td>\n",
       "    </tr>\n",
       "    <tr>\n",
       "      <th>9</th>\n",
       "      <td>0.256348</td>\n",
       "      <td>0.384277</td>\n",
       "      <td>0.510742</td>\n",
       "      <td>0.501953</td>\n",
       "      <td>0.512695</td>\n",
       "      <td>0.505371</td>\n",
       "      <td>0.501953</td>\n",
       "      <td>0.502441</td>\n",
       "      <td>0.498047</td>\n",
       "      <td>0.498047</td>\n",
       "      <td>...</td>\n",
       "      <td>-0.904455</td>\n",
       "      <td>-6.651814</td>\n",
       "      <td>-8.334980</td>\n",
       "      <td>-3.001392</td>\n",
       "      <td>-1.157969</td>\n",
       "      <td>-1.033050</td>\n",
       "      <td>1.678392</td>\n",
       "      <td>7.205414</td>\n",
       "      <td>9.771869</td>\n",
       "      <td>angry</td>\n",
       "    </tr>\n",
       "  </tbody>\n",
       "</table>\n",
       "<p>10 rows × 2377 columns</p>\n",
       "</div>"
      ],
      "text/plain": [
       "          0         1         2         3         4         5         6  \\\n",
       "0  0.343262  0.448730  0.500000  0.472168  0.376953  0.439453  0.539551   \n",
       "1  0.237305  0.352051  0.480957  0.489258  0.499023  0.502930  0.502930   \n",
       "2  0.040527  0.081543  0.097168  0.097656  0.083984  0.067871  0.111328   \n",
       "3  0.150879  0.209961  0.234863  0.159180  0.112305  0.090820  0.163574   \n",
       "4  0.000000  0.000000  0.000000  0.000000  0.000000  0.000000  0.000000   \n",
       "5  0.248535  0.370605  0.499023  0.488770  0.486816  0.491211  0.480957   \n",
       "6  0.000000  0.000000  0.000000  0.000000  0.000000  0.018066  0.171875   \n",
       "7  0.252930  0.372559  0.497559  0.490234  0.490723  0.509766  0.519531   \n",
       "8  0.256348  0.381836  0.517578  0.519531  0.518555  0.516602  0.516602   \n",
       "9  0.256348  0.384277  0.510742  0.501953  0.512695  0.505371  0.501953   \n",
       "\n",
       "          7         8         9  ...      2367       2368       2369  \\\n",
       "0  0.511230  0.388184  0.299316  ...  0.000000   0.000000   0.000000   \n",
       "1  0.510254  0.506836  0.517578  ... -1.159168  -2.651012  -0.238043   \n",
       "2  0.174805  0.253418  0.312500  ...  0.000000   0.000000   0.000000   \n",
       "3  0.262207  0.368652  0.443848  ...  0.000000   0.000000   0.000000   \n",
       "4  0.000000  0.024414  0.080078  ... -1.461556  -4.752707  -3.807003   \n",
       "5  0.491211  0.487793  0.484375  ...  1.029761  -1.071905  -2.751098   \n",
       "6  0.291016  0.400391  0.500488  ... -0.122060  -0.169449  -0.269932   \n",
       "7  0.528809  0.523926  0.515137  ...  1.635882   1.303709  -2.683839   \n",
       "8  0.506348  0.504883  0.506836  ... -2.800925 -20.028423 -22.917688   \n",
       "9  0.502441  0.498047  0.498047  ... -0.904455  -6.651814  -8.334980   \n",
       "\n",
       "       2370      2371      2372      2373      2374       2375    labels  \n",
       "0  0.000000  0.000000  0.000000  0.000000  0.000000   0.000000  surprise  \n",
       "1  1.710331  3.874244  3.927960  3.870702  2.359449  -1.600155  surprise  \n",
       "2  0.000000  0.000000  0.000000  0.000000  0.000000   0.000000  surprise  \n",
       "3  0.000000  0.000000  0.000000  0.000000  0.000000   0.000000  surprise  \n",
       "4  1.825411  1.365022 -2.007692 -1.409204  0.004334  -0.162669   neutral  \n",
       "5 -2.249093  1.726952 -0.287437 -0.339736 -2.203024  -6.504035   neutral  \n",
       "6 -0.237582  0.063637  0.434990  0.586418  0.597823   0.815498   neutral  \n",
       "7  0.486808 -0.231289 -3.244521 -0.897827  0.241259  -0.361168   neutral  \n",
       "8 -6.553454  1.511625 -7.332297 -8.524702  4.480391  10.784654     angry  \n",
       "9 -3.001392 -1.157969 -1.033050  1.678392  7.205414   9.771869     angry  \n",
       "\n",
       "[10 rows x 2377 columns]"
      ]
     },
     "execution_count": 5,
     "metadata": {},
     "output_type": "execute_result"
    }
   ],
   "source": [
    "df.head(10)"
   ]
  },
  {
   "cell_type": "code",
   "execution_count": 5,
   "id": "af13f733-9d30-47fc-b8d9-3bbef0970e26",
   "metadata": {},
   "outputs": [],
   "source": [
    "X = df.drop(labels=\"labels\", axis=1)\n",
    "Y = df[\"labels\"]"
   ]
  },
  {
   "cell_type": "code",
   "execution_count": 6,
   "id": "68c32f0f-1a2a-45c9-8fce-1a0b40168fa4",
   "metadata": {},
   "outputs": [
    {
     "data": {
      "text/plain": [
       "array([[0., 0., 0., ..., 0., 0., 1.],\n",
       "       [0., 0., 0., ..., 0., 0., 1.],\n",
       "       [0., 0., 0., ..., 0., 0., 1.],\n",
       "       ...,\n",
       "       [0., 1., 0., ..., 0., 0., 0.],\n",
       "       [0., 1., 0., ..., 0., 0., 0.],\n",
       "       [0., 1., 0., ..., 0., 0., 0.]])"
      ]
     },
     "execution_count": 6,
     "metadata": {},
     "output_type": "execute_result"
    }
   ],
   "source": [
    "encoder = OneHotEncoder()\n",
    "Y = encoder.fit_transform(np.array(Y).reshape(-1,1)).toarray()\n",
    "Y"
   ]
  },
  {
   "cell_type": "code",
   "execution_count": 7,
   "id": "1c5a99c9-33db-4859-a43e-da01c32444ad",
   "metadata": {},
   "outputs": [
    {
     "data": {
      "text/plain": [
       "((38918, 2376), (9730, 2376), (38918, 7), (9730, 7))"
      ]
     },
     "execution_count": 7,
     "metadata": {},
     "output_type": "execute_result"
    }
   ],
   "source": [
    "X_train, X_test, y_train, y_test = train_test_split(X, Y, random_state=42, test_size=0.2, shuffle=True)\n",
    "X_train.shape, X_test.shape, y_train.shape, y_test.shape"
   ]
  },
  {
   "cell_type": "code",
   "execution_count": 8,
   "id": "6bc10442-8c1c-41bf-939c-9ed4985dd651",
   "metadata": {},
   "outputs": [
    {
     "data": {
      "text/plain": [
       "((35026, 2376), (9730, 2376), (3892, 2376), (35026, 7), (9730, 7), (3892, 7))"
      ]
     },
     "execution_count": 8,
     "metadata": {},
     "output_type": "execute_result"
    }
   ],
   "source": [
    "X_train, X_val, y_train, y_val = train_test_split(X_train, y_train, random_state=42, test_size=0.1, shuffle=True)\n",
    "X_train.shape, X_test.shape, X_val.shape, y_train.shape, y_test.shape, y_val.shape"
   ]
  },
  {
   "cell_type": "code",
   "execution_count": 9,
   "id": "3438062b-aef6-4dfb-81a5-14d62f2c4714",
   "metadata": {},
   "outputs": [
    {
     "data": {
      "text/plain": [
       "((35026, 2376), (9730, 2376), (3892, 2376), (35026, 7), (9730, 7), (3892, 7))"
      ]
     },
     "execution_count": 9,
     "metadata": {},
     "output_type": "execute_result"
    }
   ],
   "source": [
    "scaler = StandardScaler()\n",
    "X_train = scaler.fit_transform(X_train)\n",
    "X_test = scaler.transform(X_test)\n",
    "X_val = scaler.transform(X_val)\n",
    "X_train.shape, X_test.shape, X_val.shape, y_train.shape, y_test.shape, y_val.shape"
   ]
  },
  {
   "cell_type": "code",
   "execution_count": 10,
   "id": "148f586b-3e6e-42b9-bb8f-cf027ea464ea",
   "metadata": {},
   "outputs": [
    {
     "data": {
      "text/plain": [
       "['scaler.pkl']"
      ]
     },
     "execution_count": 10,
     "metadata": {},
     "output_type": "execute_result"
    }
   ],
   "source": [
    "joblib.dump(scaler,'scaler.pkl')"
   ]
  },
  {
   "cell_type": "code",
   "execution_count": 11,
   "id": "4ba07137-b1b3-40df-b6c6-588fbfd3078b",
   "metadata": {},
   "outputs": [
    {
     "data": {
      "text/plain": [
       "(35026, 2376, 1)"
      ]
     },
     "execution_count": 11,
     "metadata": {},
     "output_type": "execute_result"
    }
   ],
   "source": [
    "# We have to use 1-dimensional CNN which need specifical shape:\n",
    "X_train = np.expand_dims(X_train, axis=2)\n",
    "X_val = np.expand_dims(X_val, axis=2)\n",
    "X_test = np.expand_dims(X_test, axis=2)\n",
    "X_train.shape"
   ]
  },
  {
   "cell_type": "markdown",
   "id": "003c55b4-7a1d-49d8-964f-f581ca1432a0",
   "metadata": {},
   "source": [
    "##### 2. Model with feature zrc, mfcc et rmse"
   ]
  },
  {
   "cell_type": "code",
   "execution_count": 12,
   "id": "d22f89e5-b248-478b-8f60-7e92a01d0813",
   "metadata": {},
   "outputs": [],
   "source": [
    "earlystopping = EarlyStopping(\n",
    "                        monitor =\"val_acc\",\n",
    "                        mode = 'auto', patience = 5,\n",
    "                        restore_best_weights = True\n",
    "                    )"
   ]
  },
  {
   "cell_type": "code",
   "execution_count": 13,
   "id": "659be4b8-4a79-4e60-b909-65c802282a55",
   "metadata": {},
   "outputs": [],
   "source": [
    "learning_rate_reduction = ReduceLROnPlateau(\n",
    "                                monitor='val_acc',\n",
    "                                patience=3,\n",
    "                                verbose=1,\n",
    "                                factor=0.5,\n",
    "                                min_lr=0.00001\n",
    "                            )"
   ]
  },
  {
   "cell_type": "code",
   "execution_count": 14,
   "id": "9bf084a1-eade-43fe-87a9-0585ea3e866a",
   "metadata": {},
   "outputs": [
    {
     "name": "stderr",
     "output_type": "stream",
     "text": [
      "2024-04-23 23:42:18.564371: I tensorflow/compiler/xla/stream_executor/cuda/cuda_gpu_executor.cc:981] successful NUMA node read from SysFS had negative value (-1), but there must be at least one NUMA node, so returning NUMA node zero\n",
      "2024-04-23 23:42:19.233357: I tensorflow/compiler/xla/stream_executor/cuda/cuda_gpu_executor.cc:981] successful NUMA node read from SysFS had negative value (-1), but there must be at least one NUMA node, so returning NUMA node zero\n",
      "2024-04-23 23:42:19.234194: I tensorflow/compiler/xla/stream_executor/cuda/cuda_gpu_executor.cc:981] successful NUMA node read from SysFS had negative value (-1), but there must be at least one NUMA node, so returning NUMA node zero\n",
      "2024-04-23 23:42:19.264562: I tensorflow/core/platform/cpu_feature_guard.cc:193] This TensorFlow binary is optimized with oneAPI Deep Neural Network Library (oneDNN) to use the following CPU instructions in performance-critical operations:  AVX2 FMA\n",
      "To enable them in other operations, rebuild TensorFlow with the appropriate compiler flags.\n",
      "2024-04-23 23:42:19.281706: I tensorflow/compiler/xla/stream_executor/cuda/cuda_gpu_executor.cc:981] successful NUMA node read from SysFS had negative value (-1), but there must be at least one NUMA node, so returning NUMA node zero\n",
      "2024-04-23 23:42:19.282552: I tensorflow/compiler/xla/stream_executor/cuda/cuda_gpu_executor.cc:981] successful NUMA node read from SysFS had negative value (-1), but there must be at least one NUMA node, so returning NUMA node zero\n",
      "2024-04-23 23:42:19.283188: I tensorflow/compiler/xla/stream_executor/cuda/cuda_gpu_executor.cc:981] successful NUMA node read from SysFS had negative value (-1), but there must be at least one NUMA node, so returning NUMA node zero\n",
      "2024-04-23 23:42:26.253963: I tensorflow/compiler/xla/stream_executor/cuda/cuda_gpu_executor.cc:981] successful NUMA node read from SysFS had negative value (-1), but there must be at least one NUMA node, so returning NUMA node zero\n",
      "2024-04-23 23:42:26.280671: I tensorflow/compiler/xla/stream_executor/cuda/cuda_gpu_executor.cc:981] successful NUMA node read from SysFS had negative value (-1), but there must be at least one NUMA node, so returning NUMA node zero\n",
      "2024-04-23 23:42:26.281412: I tensorflow/compiler/xla/stream_executor/cuda/cuda_gpu_executor.cc:981] successful NUMA node read from SysFS had negative value (-1), but there must be at least one NUMA node, so returning NUMA node zero\n",
      "2024-04-23 23:42:26.296370: I tensorflow/core/common_runtime/gpu/gpu_device.cc:1613] Created device /job:localhost/replica:0/task:0/device:GPU:0 with 4619 MB memory:  -> device: 0, name: NVIDIA GeForce RTX 2060 with Max-Q Design, pci bus id: 0000:01:00.0, compute capability: 7.5\n"
     ]
    },
    {
     "name": "stdout",
     "output_type": "stream",
     "text": [
      "Model: \"sequential\"\n",
      "_________________________________________________________________\n",
      " Layer (type)                Output Shape              Param #   \n",
      "=================================================================\n",
      " conv1d (Conv1D)             (None, 2376, 512)         3072      \n",
      "                                                                 \n",
      " batch_normalization (BatchN  (None, 2376, 512)        2048      \n",
      " ormalization)                                                   \n",
      "                                                                 \n",
      " max_pooling1d (MaxPooling1D  (None, 1188, 512)        0         \n",
      " )                                                               \n",
      "                                                                 \n",
      " conv1d_1 (Conv1D)           (None, 1188, 512)         1311232   \n",
      "                                                                 \n",
      " batch_normalization_1 (Batc  (None, 1188, 512)        2048      \n",
      " hNormalization)                                                 \n",
      "                                                                 \n",
      " max_pooling1d_1 (MaxPooling  (None, 594, 512)         0         \n",
      " 1D)                                                             \n",
      "                                                                 \n",
      " dropout (Dropout)           (None, 594, 512)          0         \n",
      "                                                                 \n",
      " conv1d_2 (Conv1D)           (None, 594, 256)          655616    \n",
      "                                                                 \n",
      " batch_normalization_2 (Batc  (None, 594, 256)         1024      \n",
      " hNormalization)                                                 \n",
      "                                                                 \n",
      " max_pooling1d_2 (MaxPooling  (None, 297, 256)         0         \n",
      " 1D)                                                             \n",
      "                                                                 \n",
      " conv1d_3 (Conv1D)           (None, 297, 256)          196864    \n",
      "                                                                 \n",
      " batch_normalization_3 (Batc  (None, 297, 256)         1024      \n",
      " hNormalization)                                                 \n",
      "                                                                 \n",
      " max_pooling1d_3 (MaxPooling  (None, 149, 256)         0         \n",
      " 1D)                                                             \n",
      "                                                                 \n",
      " dropout_1 (Dropout)         (None, 149, 256)          0         \n",
      "                                                                 \n",
      " conv1d_4 (Conv1D)           (None, 149, 128)          98432     \n",
      "                                                                 \n",
      " batch_normalization_4 (Batc  (None, 149, 128)         512       \n",
      " hNormalization)                                                 \n",
      "                                                                 \n",
      " max_pooling1d_4 (MaxPooling  (None, 75, 128)          0         \n",
      " 1D)                                                             \n",
      "                                                                 \n",
      " flatten (Flatten)           (None, 9600)              0         \n",
      "                                                                 \n",
      " dense (Dense)               (None, 512)               4915712   \n",
      "                                                                 \n",
      " batch_normalization_5 (Batc  (None, 512)              2048      \n",
      " hNormalization)                                                 \n",
      "                                                                 \n",
      " dense_1 (Dense)             (None, 7)                 3591      \n",
      "                                                                 \n",
      "=================================================================\n",
      "Total params: 7,193,223\n",
      "Trainable params: 7,188,871\n",
      "Non-trainable params: 4,352\n",
      "_________________________________________________________________\n"
     ]
    }
   ],
   "source": [
    "model = models.Sequential()\n",
    "model.add(layers.Conv1D(512, kernel_size=5, strides=1, padding=\"same\", activation=\"relu\", input_shape=(X_train.shape[1], 1)))\n",
    "model.add(layers.BatchNormalization())\n",
    "model.add(layers.MaxPool1D(pool_size=5, strides=2, padding=\"same\"))\n",
    "\n",
    "model.add(layers.Conv1D(512, kernel_size=5, strides=1, padding=\"same\", activation=\"relu\"))\n",
    "model.add(layers.BatchNormalization())\n",
    "model.add(layers.MaxPool1D(pool_size=5, strides=2, padding=\"same\"))\n",
    "model.add(layers.Dropout(0.1))\n",
    "\n",
    "\n",
    "model.add(layers.Conv1D(256, kernel_size=5, strides=1, padding=\"same\", activation=\"relu\"))\n",
    "model.add(layers.BatchNormalization())\n",
    "model.add(layers.MaxPool1D(pool_size=5, strides=2, padding=\"same\"))\n",
    "\n",
    "model.add(layers.Conv1D(256, kernel_size=3, strides=1, padding='same', activation='relu'))\n",
    "model.add(layers.BatchNormalization())\n",
    "model.add(layers.MaxPooling1D(pool_size=5, strides = 2, padding = 'same'))\n",
    "model.add(layers.Dropout(0.1))\n",
    "\n",
    "\n",
    "model.add(layers.Conv1D(128, kernel_size=3, strides=1, padding='same', activation='relu'))\n",
    "model.add(layers.BatchNormalization())\n",
    "model.add(layers.MaxPooling1D(pool_size=3, strides = 2, padding = 'same'))\n",
    "\n",
    "model.add(layers.Flatten())\n",
    "model.add(layers.Dense(512, activation='relu'))\n",
    "model.add(layers.BatchNormalization())\n",
    "model.add(layers.Dense(7, activation=\"softmax\"))\n",
    "model.compile(optimizer=\"rmsprop\", loss=\"categorical_crossentropy\", metrics=[\"acc\"])\n",
    "model.summary()"
   ]
  },
  {
   "cell_type": "code",
   "execution_count": 16,
   "id": "2edc269a-7297-4c9d-b959-6aae45bafa91",
   "metadata": {},
   "outputs": [
    {
     "name": "stdout",
     "output_type": "stream",
     "text": [
      "Epoch 1/50\n"
     ]
    },
    {
     "name": "stderr",
     "output_type": "stream",
     "text": [
      "2024-02-09 20:09:01.239885: I tensorflow/compiler/xla/stream_executor/cuda/cuda_dnn.cc:428] Loaded cuDNN version 8100\n",
      "2024-02-09 20:09:04.674540: I tensorflow/compiler/xla/service/service.cc:173] XLA service 0x25380030 initialized for platform CUDA (this does not guarantee that XLA will be used). Devices:\n",
      "2024-02-09 20:09:04.674615: I tensorflow/compiler/xla/service/service.cc:181]   StreamExecutor device (0): NVIDIA GeForce RTX 2060 with Max-Q Design, Compute Capability 7.5\n",
      "2024-02-09 20:09:04.689664: I tensorflow/compiler/mlir/tensorflow/utils/dump_mlir_util.cc:268] disabling MLIR crash reproducer, set env var `MLIR_CRASH_REPRODUCER_DIRECTORY` to enable.\n",
      "2024-02-09 20:09:05.034304: I tensorflow/compiler/jit/xla_compilation_cache.cc:477] Compiled cluster using XLA!  This line is logged at most once for the lifetime of the process.\n"
     ]
    },
    {
     "name": "stdout",
     "output_type": "stream",
     "text": [
      "548/548 [==============================] - 196s 325ms/step - loss: 1.4370 - acc: 0.4601 - val_loss: 1.8690 - val_acc: 0.3970 - lr: 0.0010\n",
      "Epoch 2/50\n",
      "548/548 [==============================] - 177s 323ms/step - loss: 1.0870 - acc: 0.5763 - val_loss: 1.3543 - val_acc: 0.5033 - lr: 0.0010\n",
      "Epoch 3/50\n",
      "548/548 [==============================] - 178s 325ms/step - loss: 0.9527 - acc: 0.6348 - val_loss: 1.2580 - val_acc: 0.5242 - lr: 0.0010\n",
      "Epoch 4/50\n",
      "548/548 [==============================] - 179s 326ms/step - loss: 0.8171 - acc: 0.6894 - val_loss: 0.9930 - val_acc: 0.6238 - lr: 0.0010\n",
      "Epoch 5/50\n",
      "548/548 [==============================] - 179s 326ms/step - loss: 0.6829 - acc: 0.7455 - val_loss: 0.8992 - val_acc: 0.6734 - lr: 0.0010\n",
      "Epoch 6/50\n",
      "548/548 [==============================] - 179s 326ms/step - loss: 0.5309 - acc: 0.8067 - val_loss: 0.6563 - val_acc: 0.7603 - lr: 0.0010\n",
      "Epoch 7/50\n",
      "548/548 [==============================] - 179s 327ms/step - loss: 0.3909 - acc: 0.8594 - val_loss: 0.7780 - val_acc: 0.7315 - lr: 0.0010\n",
      "Epoch 8/50\n",
      "548/548 [==============================] - 179s 327ms/step - loss: 0.2874 - acc: 0.8985 - val_loss: 0.6635 - val_acc: 0.7721 - lr: 0.0010\n",
      "Epoch 9/50\n",
      "548/548 [==============================] - 179s 326ms/step - loss: 0.2068 - acc: 0.9276 - val_loss: 0.8218 - val_acc: 0.7572 - lr: 0.0010\n",
      "Epoch 10/50\n",
      "548/548 [==============================] - 179s 326ms/step - loss: 0.1569 - acc: 0.9474 - val_loss: 0.4846 - val_acc: 0.8412 - lr: 0.0010\n",
      "Epoch 11/50\n",
      "548/548 [==============================] - 179s 326ms/step - loss: 0.1156 - acc: 0.9618 - val_loss: 0.4575 - val_acc: 0.8625 - lr: 0.0010\n",
      "Epoch 12/50\n",
      "548/548 [==============================] - 179s 327ms/step - loss: 0.0998 - acc: 0.9669 - val_loss: 0.9796 - val_acc: 0.7575 - lr: 0.0010\n",
      "Epoch 13/50\n",
      "548/548 [==============================] - 180s 328ms/step - loss: 0.0851 - acc: 0.9718 - val_loss: 0.4087 - val_acc: 0.8710 - lr: 0.0010\n",
      "Epoch 14/50\n",
      "548/548 [==============================] - 180s 328ms/step - loss: 0.0639 - acc: 0.9790 - val_loss: 0.6819 - val_acc: 0.8009 - lr: 0.0010\n",
      "Epoch 15/50\n",
      "548/548 [==============================] - 180s 329ms/step - loss: 0.0632 - acc: 0.9794 - val_loss: 0.4052 - val_acc: 0.8949 - lr: 0.0010\n",
      "Epoch 16/50\n",
      "548/548 [==============================] - 181s 330ms/step - loss: 0.0522 - acc: 0.9820 - val_loss: 0.3703 - val_acc: 0.9067 - lr: 0.0010\n",
      "Epoch 17/50\n",
      "548/548 [==============================] - 181s 330ms/step - loss: 0.0481 - acc: 0.9842 - val_loss: 0.4146 - val_acc: 0.8816 - lr: 0.0010\n",
      "Epoch 18/50\n",
      "548/548 [==============================] - 181s 330ms/step - loss: 0.0425 - acc: 0.9853 - val_loss: 0.2958 - val_acc: 0.9180 - lr: 0.0010\n",
      "Epoch 19/50\n",
      "548/548 [==============================] - 180s 329ms/step - loss: 0.0383 - acc: 0.9878 - val_loss: 0.3141 - val_acc: 0.9173 - lr: 0.0010\n",
      "Epoch 20/50\n",
      "548/548 [==============================] - 180s 329ms/step - loss: 0.0360 - acc: 0.9884 - val_loss: 0.4940 - val_acc: 0.8913 - lr: 0.0010\n",
      "Epoch 21/50\n",
      "548/548 [==============================] - ETA: 0s - loss: 0.0353 - acc: 0.9884\n",
      "Epoch 21: ReduceLROnPlateau reducing learning rate to 0.0005000000237487257.\n",
      "548/548 [==============================] - 180s 329ms/step - loss: 0.0353 - acc: 0.9884 - val_loss: 0.3735 - val_acc: 0.9132 - lr: 0.0010\n",
      "Epoch 22/50\n",
      "548/548 [==============================] - 180s 328ms/step - loss: 0.0144 - acc: 0.9957 - val_loss: 0.2169 - val_acc: 0.9471 - lr: 5.0000e-04\n",
      "Epoch 23/50\n",
      "548/548 [==============================] - 180s 328ms/step - loss: 0.0067 - acc: 0.9981 - val_loss: 0.2170 - val_acc: 0.9499 - lr: 5.0000e-04\n",
      "Epoch 24/50\n",
      "548/548 [==============================] - 180s 328ms/step - loss: 0.0050 - acc: 0.9991 - val_loss: 0.2013 - val_acc: 0.9509 - lr: 5.0000e-04\n",
      "Epoch 25/50\n",
      "548/548 [==============================] - 179s 327ms/step - loss: 0.0040 - acc: 0.9992 - val_loss: 0.2140 - val_acc: 0.9494 - lr: 5.0000e-04\n",
      "Epoch 26/50\n",
      "548/548 [==============================] - 180s 328ms/step - loss: 0.0038 - acc: 0.9990 - val_loss: 0.2444 - val_acc: 0.9432 - lr: 5.0000e-04\n",
      "Epoch 27/50\n",
      "548/548 [==============================] - 180s 328ms/step - loss: 0.0034 - acc: 0.9991 - val_loss: 0.1983 - val_acc: 0.9527 - lr: 5.0000e-04\n",
      "Epoch 28/50\n",
      "548/548 [==============================] - 179s 327ms/step - loss: 0.0042 - acc: 0.9989 - val_loss: 0.2493 - val_acc: 0.9404 - lr: 5.0000e-04\n",
      "Epoch 29/50\n",
      "548/548 [==============================] - 179s 327ms/step - loss: 0.0039 - acc: 0.9990 - val_loss: 0.1945 - val_acc: 0.9566 - lr: 5.0000e-04\n",
      "Epoch 30/50\n",
      "548/548 [==============================] - 180s 328ms/step - loss: 0.0030 - acc: 0.9991 - val_loss: 0.2088 - val_acc: 0.9535 - lr: 5.0000e-04\n",
      "Epoch 31/50\n",
      "548/548 [==============================] - 180s 329ms/step - loss: 0.0035 - acc: 0.9990 - val_loss: 0.2027 - val_acc: 0.9535 - lr: 5.0000e-04\n",
      "Epoch 32/50\n",
      "548/548 [==============================] - ETA: 0s - loss: 0.0032 - acc: 0.9993\n",
      "Epoch 32: ReduceLROnPlateau reducing learning rate to 0.0002500000118743628.\n",
      "548/548 [==============================] - 180s 329ms/step - loss: 0.0032 - acc: 0.9993 - val_loss: 0.2124 - val_acc: 0.9530 - lr: 5.0000e-04\n",
      "Epoch 33/50\n",
      "548/548 [==============================] - 180s 328ms/step - loss: 0.0018 - acc: 0.9997 - val_loss: 0.1965 - val_acc: 0.9573 - lr: 2.5000e-04\n",
      "Epoch 34/50\n",
      "548/548 [==============================] - 179s 326ms/step - loss: 0.0016 - acc: 0.9997 - val_loss: 0.1994 - val_acc: 0.9558 - lr: 2.5000e-04\n",
      "Epoch 35/50\n",
      "548/548 [==============================] - 178s 325ms/step - loss: 0.0017 - acc: 0.9996 - val_loss: 0.1885 - val_acc: 0.9586 - lr: 2.5000e-04\n",
      "Epoch 36/50\n",
      "548/548 [==============================] - 178s 325ms/step - loss: 0.0011 - acc: 0.9997 - val_loss: 0.1835 - val_acc: 0.9602 - lr: 2.5000e-04\n",
      "Epoch 37/50\n",
      "548/548 [==============================] - 178s 325ms/step - loss: 0.0014 - acc: 0.9997 - val_loss: 0.1872 - val_acc: 0.9599 - lr: 2.5000e-04\n",
      "Epoch 38/50\n",
      "548/548 [==============================] - 178s 325ms/step - loss: 0.0013 - acc: 0.9997 - val_loss: 0.1786 - val_acc: 0.9607 - lr: 2.5000e-04\n",
      "Epoch 39/50\n",
      "548/548 [==============================] - 178s 325ms/step - loss: 0.0015 - acc: 0.9996 - val_loss: 0.1801 - val_acc: 0.9615 - lr: 2.5000e-04\n",
      "Epoch 40/50\n",
      "548/548 [==============================] - 178s 325ms/step - loss: 8.7236e-04 - acc: 0.9997 - val_loss: 0.1844 - val_acc: 0.9609 - lr: 2.5000e-04\n",
      "Epoch 41/50\n",
      "548/548 [==============================] - 177s 324ms/step - loss: 0.0012 - acc: 0.9997 - val_loss: 0.1853 - val_acc: 0.9602 - lr: 2.5000e-04\n",
      "Epoch 42/50\n",
      "548/548 [==============================] - 178s 325ms/step - loss: 9.1981e-04 - acc: 0.9998 - val_loss: 0.1824 - val_acc: 0.9625 - lr: 2.5000e-04\n",
      "Epoch 43/50\n",
      "548/548 [==============================] - 179s 326ms/step - loss: 0.0012 - acc: 0.9997 - val_loss: 0.1886 - val_acc: 0.9591 - lr: 2.5000e-04\n",
      "Epoch 44/50\n",
      "548/548 [==============================] - 179s 326ms/step - loss: 5.9120e-04 - acc: 0.9999 - val_loss: 0.1818 - val_acc: 0.9612 - lr: 2.5000e-04\n",
      "Epoch 45/50\n",
      "548/548 [==============================] - ETA: 0s - loss: 6.0714e-04 - acc: 0.9999\n",
      "Epoch 45: ReduceLROnPlateau reducing learning rate to 0.0001250000059371814.\n",
      "548/548 [==============================] - 179s 326ms/step - loss: 6.0714e-04 - acc: 0.9999 - val_loss: 0.1899 - val_acc: 0.9591 - lr: 2.5000e-04\n",
      "Epoch 46/50\n",
      "548/548 [==============================] - 179s 326ms/step - loss: 8.7707e-04 - acc: 0.9997 - val_loss: 0.1868 - val_acc: 0.9615 - lr: 1.2500e-04\n",
      "Epoch 47/50\n",
      "548/548 [==============================] - 179s 326ms/step - loss: 7.9759e-04 - acc: 0.9997 - val_loss: 0.1877 - val_acc: 0.9591 - lr: 1.2500e-04\n"
     ]
    }
   ],
   "source": [
    "with tf.device('/GPU:0'):\n",
    "    history = model.fit(X_train, y_train, validation_data=(X_val, y_val),callbacks=[learning_rate_reduction, earlystopping],\n",
    "                    epochs=50, batch_size=64)"
   ]
  },
  {
   "cell_type": "code",
   "execution_count": 17,
   "id": "cbae48a2-6a09-46e2-ac82-81affde5bc3b",
   "metadata": {},
   "outputs": [
    {
     "name": "stdout",
     "output_type": "stream",
     "text": [
      "305/305 [==============================] - 16s 51ms/step - loss: 0.2439 - acc: 0.9565\n",
      "Accuracy of our model on test data :  95.65262198448181 %\n"
     ]
    },
    {
     "data": {
      "image/png": "[encoded data removed]",
      "text/plain": [
       "<Figure size 2000x600 with 2 Axes>"
      ]
     },
     "metadata": {},
     "output_type": "display_data"
    }
   ],
   "source": [
    "print(\"Accuracy of our model on test data : \" , model.evaluate(X_test,y_test)[1]*100 , \"%\")\n",
    "\n",
    "fig , ax = plt.subplots(1,2)\n",
    "train_acc = history.history['acc']\n",
    "train_loss = history.history['loss']\n",
    "test_acc = history.history['val_acc']\n",
    "test_loss = history.history['val_loss']\n",
    "\n",
    "fig.set_size_inches(20,6)\n",
    "ax[0].plot(train_loss, label = 'Training Loss')\n",
    "ax[0].plot(test_loss , label = 'Testing Loss')\n",
    "ax[0].set_title('Training & Testing Loss')\n",
    "ax[0].legend()\n",
    "ax[0].set_xlabel(\"Epochs\")\n",
    "\n",
    "ax[1].plot(train_acc, label = 'Training Accuracy')\n",
    "ax[1].plot(test_acc , label = 'Testing Accuracy')\n",
    "ax[1].set_title('Training & Testing Accuracy')\n",
    "ax[1].legend()\n",
    "ax[1].set_xlabel(\"Epochs\")\n",
    "plt.show()"
   ]
  },
  {
   "cell_type": "code",
   "execution_count": 18,
   "id": "9ef53ce0-d51f-486a-a555-63ad361d4fa9",
   "metadata": {},
   "outputs": [
    {
     "name": "stdout",
     "output_type": "stream",
     "text": [
      "305/305 [==============================] - 15s 46ms/step\n"
     ]
    }
   ],
   "source": [
    "# predicting on test data.\n",
    "pred_test = model.predict(X_test)\n",
    "y_pred = encoder.inverse_transform(pred_test)\n",
    "\n",
    "y_test1 = encoder.inverse_transform(y_test)"
   ]
  },
  {
   "cell_type": "code",
   "execution_count": 19,
   "id": "abffc6e3-48bc-4543-9778-020159dfdc5f",
   "metadata": {},
   "outputs": [
    {
     "data": {
      "text/html": [
       "<div>\n",
       "<style scoped>\n",
       "    .dataframe tbody tr th:only-of-type {\n",
       "        vertical-align: middle;\n",
       "    }\n",
       "\n",
       "    .dataframe tbody tr th {\n",
       "        vertical-align: top;\n",
       "    }\n",
       "\n",
       "    .dataframe thead th {\n",
       "        text-align: right;\n",
       "    }\n",
       "</style>\n",
       "<table border=\"1\" class=\"dataframe\">\n",
       "  <thead>\n",
       "    <tr style=\"text-align: right;\">\n",
       "      <th></th>\n",
       "      <th>Predicted Labels</th>\n",
       "      <th>Actual Labels</th>\n",
       "    </tr>\n",
       "  </thead>\n",
       "  <tbody>\n",
       "    <tr>\n",
       "      <th>0</th>\n",
       "      <td>surprise</td>\n",
       "      <td>surprise</td>\n",
       "    </tr>\n",
       "    <tr>\n",
       "      <th>1</th>\n",
       "      <td>neutral</td>\n",
       "      <td>neutral</td>\n",
       "    </tr>\n",
       "    <tr>\n",
       "      <th>2</th>\n",
       "      <td>angry</td>\n",
       "      <td>angry</td>\n",
       "    </tr>\n",
       "    <tr>\n",
       "      <th>3</th>\n",
       "      <td>fear</td>\n",
       "      <td>fear</td>\n",
       "    </tr>\n",
       "    <tr>\n",
       "      <th>4</th>\n",
       "      <td>neutral</td>\n",
       "      <td>neutral</td>\n",
       "    </tr>\n",
       "    <tr>\n",
       "      <th>5</th>\n",
       "      <td>neutral</td>\n",
       "      <td>neutral</td>\n",
       "    </tr>\n",
       "    <tr>\n",
       "      <th>6</th>\n",
       "      <td>neutral</td>\n",
       "      <td>neutral</td>\n",
       "    </tr>\n",
       "    <tr>\n",
       "      <th>7</th>\n",
       "      <td>sad</td>\n",
       "      <td>sad</td>\n",
       "    </tr>\n",
       "    <tr>\n",
       "      <th>8</th>\n",
       "      <td>sad</td>\n",
       "      <td>sad</td>\n",
       "    </tr>\n",
       "    <tr>\n",
       "      <th>9</th>\n",
       "      <td>surprise</td>\n",
       "      <td>surprise</td>\n",
       "    </tr>\n",
       "  </tbody>\n",
       "</table>\n",
       "</div>"
      ],
      "text/plain": [
       "  Predicted Labels Actual Labels\n",
       "0         surprise      surprise\n",
       "1          neutral       neutral\n",
       "2            angry         angry\n",
       "3             fear          fear\n",
       "4          neutral       neutral\n",
       "5          neutral       neutral\n",
       "6          neutral       neutral\n",
       "7              sad           sad\n",
       "8              sad           sad\n",
       "9         surprise      surprise"
      ]
     },
     "execution_count": 19,
     "metadata": {},
     "output_type": "execute_result"
    }
   ],
   "source": [
    "df = pd.DataFrame(columns=['Predicted Labels', 'Actual Labels'])\n",
    "df['Predicted Labels'] = y_pred.flatten()\n",
    "df['Actual Labels'] = y_test1.flatten()\n",
    "\n",
    "df.head(10)"
   ]
  },
  {
   "cell_type": "code",
   "execution_count": 20,
   "id": "dac94255-c9f2-4ca8-aa08-90760bd8832b",
   "metadata": {},
   "outputs": [],
   "source": [
    "def plot_confusion_matrix(cm, classes,\n",
    "                        normalize=False,\n",
    "                        title='Confusion matrix',\n",
    "                        cmap=plt.cm.Blues):\n",
    "    \"\"\"\n",
    "    This function prints and plots the confusion matrix.\n",
    "    Normalization can be applied by setting `normalize=True`.\n",
    "    \"\"\"\n",
    "    plt.imshow(cm, interpolation='nearest', cmap=cmap)\n",
    "    plt.title(title)\n",
    "    plt.colorbar()\n",
    "    tick_marks = np.arange(len(classes))\n",
    "    plt.xticks(tick_marks, classes, rotation=45)\n",
    "    plt.yticks(tick_marks, classes)\n",
    "\n",
    "    if normalize:\n",
    "        cm = cm.astype('float') / cm.sum(axis=1)[:, np.newaxis]\n",
    "        print(\"Normalized confusion matrix\")\n",
    "    else:\n",
    "        print('Confusion matrix, without normalization')\n",
    "\n",
    "    print(cm)\n",
    "\n",
    "    thresh = cm.max() / 2.\n",
    "    for i, j in itertools.product(range(cm.shape[0]), range(cm.shape[1])):\n",
    "        plt.text(j, i, cm[i, j],\n",
    "            horizontalalignment=\"center\",\n",
    "            color=\"white\" if cm[i, j] > thresh else \"black\")\n",
    "\n",
    "    plt.tight_layout()\n",
    "    plt.ylabel('True label')\n",
    "    plt.xlabel('Predicted label')"
   ]
  },
  {
   "cell_type": "code",
   "execution_count": 21,
   "id": "b703b36f-81d7-4ea8-ac7c-2ab2e0f576ee",
   "metadata": {},
   "outputs": [
    {
     "name": "stdout",
     "output_type": "stream",
     "text": [
      "Confusion matrix, without normalization\n",
      "[[1416    7    9   16    1    3    5]\n",
      " [  23 1478   13    5   10   27    3]\n",
      " [  18   11 1508   16   11   24    4]\n",
      " [  23   13   21 1459   17    7    2]\n",
      " [   4   13    9   12 1461   16    0]\n",
      " [   1   14   23    3   15 1473    2]\n",
      " [   6    1    2    4    0    9  512]]\n"
     ]
    },
    {
     "data": {
      "image/png": "[encoded data removed]",
      "text/plain": [
       "<Figure size 640x480 with 2 Axes>"
      ]
     },
     "metadata": {},
     "output_type": "display_data"
    }
   ],
   "source": [
    "cm = confusion_matrix(y_test1, y_pred)\n",
    "cm_plot_labels = ['angry', 'disgust', 'fear', 'happy', 'neutral', 'sad', 'surprise']\n",
    "plot_confusion_matrix(cm=cm, classes=cm_plot_labels, title='Confusion Matrix')"
   ]
  },
  {
   "cell_type": "code",
   "execution_count": 24,
   "id": "cffaa5ef-0eec-4d3f-901d-6dd75f02319a",
   "metadata": {},
   "outputs": [
    {
     "name": "stdout",
     "output_type": "stream",
     "text": [
      "Model Confusion Matrix\n",
      "               precision    recall  f1-score   support\n",
      "\n",
      "       angry       0.95      0.97      0.96      1457\n",
      "     disgust       0.96      0.95      0.95      1559\n",
      "        fear       0.95      0.95      0.95      1592\n",
      "       happy       0.96      0.95      0.95      1542\n",
      "     neutral       0.96      0.96      0.96      1515\n",
      "         sad       0.94      0.96      0.95      1531\n",
      "    surprise       0.97      0.96      0.96       534\n",
      "\n",
      "    accuracy                           0.96      9730\n",
      "   macro avg       0.96      0.96      0.96      9730\n",
      "weighted avg       0.96      0.96      0.96      9730\n",
      "\n"
     ]
    }
   ],
   "source": [
    "from sklearn.metrics import classification_report\n",
    "print(f'Model Confusion Matrix\\n',classification_report(y_test1,y_pred,target_names=cm_plot_labels))"
   ]
  },
  {
   "cell_type": "code",
   "execution_count": 25,
   "id": "427f987c-d4b9-4cd1-a6e0-4120b1402308",
   "metadata": {},
   "outputs": [],
   "source": [
    "# save model\n",
    "model.save(\"./model_all.h5\")"
   ]
  },
  {
   "cell_type": "code",
   "execution_count": 26,
   "id": "ddfe0b25-bc44-4e17-9eb3-dc88b669ffd9",
   "metadata": {},
   "outputs": [
    {
     "data": {
      "text/plain": [
       "['encoder_all.pkl']"
      ]
     },
     "execution_count": 26,
     "metadata": {},
     "output_type": "execute_result"
    }
   ],
   "source": [
    "# save encoder\n",
    "joblib.dump(encoder,'encoder_all.pkl')"
   ]
  }
 ],
 "metadata": {
  "kernelspec": {
   "display_name": "Python 3 (ipykernel)",
   "language": "python",
   "name": "python3"
  },
  "language_info": {
   "codemirror_mode": {
    "name": "ipython",
    "version": 3
   },
   "file_extension": ".py",
   "mimetype": "text/x-python",
   "name": "python",
   "nbconvert_exporter": "python",
   "pygments_lexer": "ipython3",
   "version": "3.9.18"
  }
 },
 "nbformat": 4,
 "nbformat_minor": 5
}
