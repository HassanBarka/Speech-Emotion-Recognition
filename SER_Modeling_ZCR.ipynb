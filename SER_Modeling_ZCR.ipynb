{
 "cells": [
  {
   "cell_type": "markdown",
   "id": "96752079-be5c-4feb-bb7f-570e47badc34",
   "metadata": {},
   "source": [
    "### Importation de bibliotheque"
   ]
  },
  {
   "cell_type": "code",
   "execution_count": 1,
   "id": "df0db4c2-f6e4-4de3-824a-feac02816a3b",
   "metadata": {},
   "outputs": [],
   "source": [
    "import sys\n",
    "import warnings\n",
    "if not sys.warnoptions:\n",
    "    warnings.simplefilter(\"ignore\")\n",
    "warnings.filterwarnings(\"ignore\", category=DeprecationWarning)"
   ]
  },
  {
   "cell_type": "code",
   "execution_count": 2,
   "id": "957608de-2cd7-41d7-b36f-222126912b82",
   "metadata": {},
   "outputs": [
    {
     "name": "stderr",
     "output_type": "stream",
     "text": [
      "2024-03-22 00:29:53.473891: I tensorflow/core/platform/cpu_feature_guard.cc:193] This TensorFlow binary is optimized with oneAPI Deep Neural Network Library (oneDNN) to use the following CPU instructions in performance-critical operations:  AVX2 FMA\n",
      "To enable them in other operations, rebuild TensorFlow with the appropriate compiler flags.\n",
      "2024-03-22 00:29:55.727207: W tensorflow/compiler/xla/stream_executor/platform/default/dso_loader.cc:64] Could not load dynamic library 'libnvinfer.so.7'; dlerror: libnvinfer.so.7: cannot open shared object file: No such file or directory; LD_LIBRARY_PATH: /usr/local/cuda-11.8/lib64:/usr/local/cuda-11.8/lib64:/usr/local/cuda-11.8/lib64:/usr/local/cuda-11.8/lib64:/home/hassouni/miniconda3/envs/tf/lib/\n",
      "2024-03-22 00:29:55.727398: W tensorflow/compiler/xla/stream_executor/platform/default/dso_loader.cc:64] Could not load dynamic library 'libnvinfer_plugin.so.7'; dlerror: libnvinfer_plugin.so.7: cannot open shared object file: No such file or directory; LD_LIBRARY_PATH: /usr/local/cuda-11.8/lib64:/usr/local/cuda-11.8/lib64:/usr/local/cuda-11.8/lib64:/usr/local/cuda-11.8/lib64:/home/hassouni/miniconda3/envs/tf/lib/\n",
      "2024-03-22 00:29:55.727422: W tensorflow/compiler/tf2tensorrt/utils/py_utils.cc:38] TF-TRT Warning: Cannot dlopen some TensorRT libraries. If you would like to use Nvidia GPU with TensorRT, please make sure the missing libraries mentioned above are installed properly.\n"
     ]
    }
   ],
   "source": [
    "import os\n",
    "import joblib\n",
    "import itertools\n",
    "import numpy as np\n",
    "import pandas as pd\n",
    "import seaborn as sns\n",
    "import tensorflow as tf\n",
    "import matplotlib.pyplot as plt\n",
    "from keras.callbacks import EarlyStopping\n",
    "from tensorflow.keras import layers, models\n",
    "from sklearn.metrics import confusion_matrix\n",
    "from keras.callbacks import ReduceLROnPlateau\n",
    "from tensorflow.keras.optimizers import Adam,RMSprop \n",
    "from sklearn.model_selection import train_test_split\n",
    "from sklearn.preprocessing import LabelEncoder, StandardScaler, OneHotEncoder"
   ]
  },
  {
   "cell_type": "markdown",
   "id": "72bdb9c1-3524-4f27-ac39-bb68fcae1236",
   "metadata": {},
   "source": [
    "### Modeling"
   ]
  },
  {
   "cell_type": "markdown",
   "id": "904b7d10-a908-4c95-be12-25bd422f1f1e",
   "metadata": {},
   "source": [
    "##### 1. Data preprocessing"
   ]
  },
  {
   "cell_type": "code",
   "execution_count": 3,
   "id": "2b49086e-e28a-453f-a6a6-087b3d51aebc",
   "metadata": {},
   "outputs": [
    {
     "data": {
      "text/plain": [
       "(48648, 2161)"
      ]
     },
     "execution_count": 3,
     "metadata": {},
     "output_type": "execute_result"
    }
   ],
   "source": [
    "df = pd.read_csv('features_mfcc.csv')\n",
    "df.shape"
   ]
  },
  {
   "cell_type": "code",
   "execution_count": 4,
   "id": "57f6b92f-a371-4def-8279-071fc7020a80",
   "metadata": {},
   "outputs": [
    {
     "name": "stdout",
     "output_type": "stream",
     "text": [
      "0         False\n",
      "1         False\n",
      "2         False\n",
      "3         False\n",
      "4         False\n",
      "          ...  \n",
      "2156      False\n",
      "2157      False\n",
      "2158      False\n",
      "2159      False\n",
      "labels    False\n",
      "Length: 2161, dtype: bool\n"
     ]
    }
   ],
   "source": [
    "# Fill NaN with 0\n",
    "df = df.fillna(0)\n",
    "print(df.isna().any())"
   ]
  },
  {
   "cell_type": "code",
   "execution_count": 5,
   "id": "1878a4d3-863e-48ba-8564-01bdc36ad9c2",
   "metadata": {},
   "outputs": [
    {
     "data": {
      "text/html": [
       "<div>\n",
       "<style scoped>\n",
       "    .dataframe tbody tr th:only-of-type {\n",
       "        vertical-align: middle;\n",
       "    }\n",
       "\n",
       "    .dataframe tbody tr th {\n",
       "        vertical-align: top;\n",
       "    }\n",
       "\n",
       "    .dataframe thead th {\n",
       "        text-align: right;\n",
       "    }\n",
       "</style>\n",
       "<table border=\"1\" class=\"dataframe\">\n",
       "  <thead>\n",
       "    <tr style=\"text-align: right;\">\n",
       "      <th></th>\n",
       "      <th>0</th>\n",
       "      <th>1</th>\n",
       "      <th>2</th>\n",
       "      <th>3</th>\n",
       "      <th>4</th>\n",
       "      <th>5</th>\n",
       "      <th>6</th>\n",
       "      <th>7</th>\n",
       "      <th>8</th>\n",
       "      <th>9</th>\n",
       "      <th>...</th>\n",
       "      <th>2151</th>\n",
       "      <th>2152</th>\n",
       "      <th>2153</th>\n",
       "      <th>2154</th>\n",
       "      <th>2155</th>\n",
       "      <th>2156</th>\n",
       "      <th>2157</th>\n",
       "      <th>2158</th>\n",
       "      <th>2159</th>\n",
       "      <th>labels</th>\n",
       "    </tr>\n",
       "  </thead>\n",
       "  <tbody>\n",
       "    <tr>\n",
       "      <th>0</th>\n",
       "      <td>-836.056152</td>\n",
       "      <td>0.000000</td>\n",
       "      <td>0.000000</td>\n",
       "      <td>0.000000</td>\n",
       "      <td>0.000000</td>\n",
       "      <td>0.000000</td>\n",
       "      <td>0.000000</td>\n",
       "      <td>0.000000</td>\n",
       "      <td>0.000000</td>\n",
       "      <td>0.000000</td>\n",
       "      <td>...</td>\n",
       "      <td>0.000000</td>\n",
       "      <td>0.000000</td>\n",
       "      <td>0.000000</td>\n",
       "      <td>0.000000</td>\n",
       "      <td>0.000000</td>\n",
       "      <td>0.000000</td>\n",
       "      <td>0.000000</td>\n",
       "      <td>0.000000</td>\n",
       "      <td>0.000000</td>\n",
       "      <td>surprise</td>\n",
       "    </tr>\n",
       "    <tr>\n",
       "      <th>1</th>\n",
       "      <td>-570.003487</td>\n",
       "      <td>1.197243</td>\n",
       "      <td>1.255092</td>\n",
       "      <td>-3.564422</td>\n",
       "      <td>-0.638827</td>\n",
       "      <td>0.623328</td>\n",
       "      <td>1.387042</td>\n",
       "      <td>2.897087</td>\n",
       "      <td>2.724433</td>\n",
       "      <td>4.172999</td>\n",
       "      <td>...</td>\n",
       "      <td>-1.873411</td>\n",
       "      <td>-0.439743</td>\n",
       "      <td>-7.706072</td>\n",
       "      <td>-1.822334</td>\n",
       "      <td>-1.674423</td>\n",
       "      <td>-3.355158</td>\n",
       "      <td>3.119024</td>\n",
       "      <td>2.278032</td>\n",
       "      <td>-1.538715</td>\n",
       "      <td>surprise</td>\n",
       "    </tr>\n",
       "    <tr>\n",
       "      <th>2</th>\n",
       "      <td>-881.584656</td>\n",
       "      <td>5.148536</td>\n",
       "      <td>4.076508</td>\n",
       "      <td>2.493722</td>\n",
       "      <td>0.659431</td>\n",
       "      <td>-1.143967</td>\n",
       "      <td>-2.665554</td>\n",
       "      <td>-3.728205</td>\n",
       "      <td>-4.249881</td>\n",
       "      <td>-4.241667</td>\n",
       "      <td>...</td>\n",
       "      <td>0.000000</td>\n",
       "      <td>0.000000</td>\n",
       "      <td>0.000000</td>\n",
       "      <td>0.000000</td>\n",
       "      <td>0.000000</td>\n",
       "      <td>0.000000</td>\n",
       "      <td>0.000000</td>\n",
       "      <td>0.000000</td>\n",
       "      <td>0.000000</td>\n",
       "      <td>surprise</td>\n",
       "    </tr>\n",
       "    <tr>\n",
       "      <th>3</th>\n",
       "      <td>-648.940197</td>\n",
       "      <td>-3.547080</td>\n",
       "      <td>2.761682</td>\n",
       "      <td>-0.540265</td>\n",
       "      <td>1.560255</td>\n",
       "      <td>-4.287701</td>\n",
       "      <td>-0.708513</td>\n",
       "      <td>4.310824</td>\n",
       "      <td>-1.258069</td>\n",
       "      <td>-3.188684</td>\n",
       "      <td>...</td>\n",
       "      <td>-3.346332</td>\n",
       "      <td>-7.575748</td>\n",
       "      <td>-3.131421</td>\n",
       "      <td>-7.384761</td>\n",
       "      <td>-2.084824</td>\n",
       "      <td>3.562538</td>\n",
       "      <td>0.524190</td>\n",
       "      <td>2.702980</td>\n",
       "      <td>-0.325480</td>\n",
       "      <td>surprise</td>\n",
       "    </tr>\n",
       "    <tr>\n",
       "      <th>4</th>\n",
       "      <td>-996.581726</td>\n",
       "      <td>0.000000</td>\n",
       "      <td>0.000000</td>\n",
       "      <td>0.000000</td>\n",
       "      <td>0.000000</td>\n",
       "      <td>0.000000</td>\n",
       "      <td>0.000000</td>\n",
       "      <td>0.000000</td>\n",
       "      <td>0.000000</td>\n",
       "      <td>0.000000</td>\n",
       "      <td>...</td>\n",
       "      <td>-1.461556</td>\n",
       "      <td>-4.752707</td>\n",
       "      <td>-3.807003</td>\n",
       "      <td>1.825411</td>\n",
       "      <td>1.365022</td>\n",
       "      <td>-2.007692</td>\n",
       "      <td>-1.409204</td>\n",
       "      <td>0.004334</td>\n",
       "      <td>-0.162669</td>\n",
       "      <td>neutral</td>\n",
       "    </tr>\n",
       "    <tr>\n",
       "      <th>5</th>\n",
       "      <td>-945.669039</td>\n",
       "      <td>-7.326480</td>\n",
       "      <td>-0.611619</td>\n",
       "      <td>-1.920115</td>\n",
       "      <td>5.322925</td>\n",
       "      <td>7.815470</td>\n",
       "      <td>4.174310</td>\n",
       "      <td>0.507270</td>\n",
       "      <td>-6.471173</td>\n",
       "      <td>2.429726</td>\n",
       "      <td>...</td>\n",
       "      <td>1.054371</td>\n",
       "      <td>3.160124</td>\n",
       "      <td>0.312156</td>\n",
       "      <td>-2.149277</td>\n",
       "      <td>-1.622166</td>\n",
       "      <td>-1.206294</td>\n",
       "      <td>-1.089394</td>\n",
       "      <td>3.353752</td>\n",
       "      <td>6.404018</td>\n",
       "      <td>neutral</td>\n",
       "    </tr>\n",
       "    <tr>\n",
       "      <th>6</th>\n",
       "      <td>-1002.221802</td>\n",
       "      <td>0.000000</td>\n",
       "      <td>0.000000</td>\n",
       "      <td>0.000000</td>\n",
       "      <td>0.000000</td>\n",
       "      <td>0.000000</td>\n",
       "      <td>0.000000</td>\n",
       "      <td>0.000000</td>\n",
       "      <td>0.000000</td>\n",
       "      <td>0.000000</td>\n",
       "      <td>...</td>\n",
       "      <td>-1.216436</td>\n",
       "      <td>-1.478790</td>\n",
       "      <td>-1.301510</td>\n",
       "      <td>-0.933480</td>\n",
       "      <td>-0.796525</td>\n",
       "      <td>-0.900837</td>\n",
       "      <td>-0.817926</td>\n",
       "      <td>-0.291825</td>\n",
       "      <td>0.353377</td>\n",
       "      <td>neutral</td>\n",
       "    </tr>\n",
       "    <tr>\n",
       "      <th>7</th>\n",
       "      <td>-767.600134</td>\n",
       "      <td>-8.968201</td>\n",
       "      <td>0.034676</td>\n",
       "      <td>2.169500</td>\n",
       "      <td>0.983470</td>\n",
       "      <td>6.765730</td>\n",
       "      <td>8.419183</td>\n",
       "      <td>5.383916</td>\n",
       "      <td>-1.355246</td>\n",
       "      <td>4.527593</td>\n",
       "      <td>...</td>\n",
       "      <td>2.109602</td>\n",
       "      <td>-6.161078</td>\n",
       "      <td>-7.560592</td>\n",
       "      <td>1.061182</td>\n",
       "      <td>-4.295215</td>\n",
       "      <td>-3.844797</td>\n",
       "      <td>1.952130</td>\n",
       "      <td>0.310883</td>\n",
       "      <td>-3.331528</td>\n",
       "      <td>neutral</td>\n",
       "    </tr>\n",
       "    <tr>\n",
       "      <th>8</th>\n",
       "      <td>-525.304260</td>\n",
       "      <td>-11.348392</td>\n",
       "      <td>-0.997466</td>\n",
       "      <td>7.913282</td>\n",
       "      <td>-8.708626</td>\n",
       "      <td>4.971757</td>\n",
       "      <td>-0.066018</td>\n",
       "      <td>-6.612823</td>\n",
       "      <td>-0.334041</td>\n",
       "      <td>1.682047</td>\n",
       "      <td>...</td>\n",
       "      <td>-2.800925</td>\n",
       "      <td>-20.028423</td>\n",
       "      <td>-22.917688</td>\n",
       "      <td>-6.553454</td>\n",
       "      <td>1.511625</td>\n",
       "      <td>-7.332297</td>\n",
       "      <td>-8.524702</td>\n",
       "      <td>4.480391</td>\n",
       "      <td>10.784654</td>\n",
       "      <td>angry</td>\n",
       "    </tr>\n",
       "    <tr>\n",
       "      <th>9</th>\n",
       "      <td>-302.299783</td>\n",
       "      <td>-4.596812</td>\n",
       "      <td>4.613360</td>\n",
       "      <td>2.343106</td>\n",
       "      <td>-2.371080</td>\n",
       "      <td>-4.849342</td>\n",
       "      <td>-9.014901</td>\n",
       "      <td>-3.580502</td>\n",
       "      <td>0.474071</td>\n",
       "      <td>1.461993</td>\n",
       "      <td>...</td>\n",
       "      <td>2.836169</td>\n",
       "      <td>-2.604647</td>\n",
       "      <td>-7.062410</td>\n",
       "      <td>-5.832411</td>\n",
       "      <td>-2.830796</td>\n",
       "      <td>0.058943</td>\n",
       "      <td>-4.812131</td>\n",
       "      <td>-1.685947</td>\n",
       "      <td>5.544261</td>\n",
       "      <td>angry</td>\n",
       "    </tr>\n",
       "  </tbody>\n",
       "</table>\n",
       "<p>10 rows × 2161 columns</p>\n",
       "</div>"
      ],
      "text/plain": [
       "             0          1         2         3         4         5         6  \\\n",
       "0  -836.056152   0.000000  0.000000  0.000000  0.000000  0.000000  0.000000   \n",
       "1  -570.003487   1.197243  1.255092 -3.564422 -0.638827  0.623328  1.387042   \n",
       "2  -881.584656   5.148536  4.076508  2.493722  0.659431 -1.143967 -2.665554   \n",
       "3  -648.940197  -3.547080  2.761682 -0.540265  1.560255 -4.287701 -0.708513   \n",
       "4  -996.581726   0.000000  0.000000  0.000000  0.000000  0.000000  0.000000   \n",
       "5  -945.669039  -7.326480 -0.611619 -1.920115  5.322925  7.815470  4.174310   \n",
       "6 -1002.221802   0.000000  0.000000  0.000000  0.000000  0.000000  0.000000   \n",
       "7  -767.600134  -8.968201  0.034676  2.169500  0.983470  6.765730  8.419183   \n",
       "8  -525.304260 -11.348392 -0.997466  7.913282 -8.708626  4.971757 -0.066018   \n",
       "9  -302.299783  -4.596812  4.613360  2.343106 -2.371080 -4.849342 -9.014901   \n",
       "\n",
       "          7         8         9  ...      2151       2152       2153  \\\n",
       "0  0.000000  0.000000  0.000000  ...  0.000000   0.000000   0.000000   \n",
       "1  2.897087  2.724433  4.172999  ... -1.873411  -0.439743  -7.706072   \n",
       "2 -3.728205 -4.249881 -4.241667  ...  0.000000   0.000000   0.000000   \n",
       "3  4.310824 -1.258069 -3.188684  ... -3.346332  -7.575748  -3.131421   \n",
       "4  0.000000  0.000000  0.000000  ... -1.461556  -4.752707  -3.807003   \n",
       "5  0.507270 -6.471173  2.429726  ...  1.054371   3.160124   0.312156   \n",
       "6  0.000000  0.000000  0.000000  ... -1.216436  -1.478790  -1.301510   \n",
       "7  5.383916 -1.355246  4.527593  ...  2.109602  -6.161078  -7.560592   \n",
       "8 -6.612823 -0.334041  1.682047  ... -2.800925 -20.028423 -22.917688   \n",
       "9 -3.580502  0.474071  1.461993  ...  2.836169  -2.604647  -7.062410   \n",
       "\n",
       "       2154      2155      2156      2157      2158       2159    labels  \n",
       "0  0.000000  0.000000  0.000000  0.000000  0.000000   0.000000  surprise  \n",
       "1 -1.822334 -1.674423 -3.355158  3.119024  2.278032  -1.538715  surprise  \n",
       "2  0.000000  0.000000  0.000000  0.000000  0.000000   0.000000  surprise  \n",
       "3 -7.384761 -2.084824  3.562538  0.524190  2.702980  -0.325480  surprise  \n",
       "4  1.825411  1.365022 -2.007692 -1.409204  0.004334  -0.162669   neutral  \n",
       "5 -2.149277 -1.622166 -1.206294 -1.089394  3.353752   6.404018   neutral  \n",
       "6 -0.933480 -0.796525 -0.900837 -0.817926 -0.291825   0.353377   neutral  \n",
       "7  1.061182 -4.295215 -3.844797  1.952130  0.310883  -3.331528   neutral  \n",
       "8 -6.553454  1.511625 -7.332297 -8.524702  4.480391  10.784654     angry  \n",
       "9 -5.832411 -2.830796  0.058943 -4.812131 -1.685947   5.544261     angry  \n",
       "\n",
       "[10 rows x 2161 columns]"
      ]
     },
     "execution_count": 5,
     "metadata": {},
     "output_type": "execute_result"
    }
   ],
   "source": [
    "df.head(10)"
   ]
  },
  {
   "cell_type": "code",
   "execution_count": 6,
   "id": "af13f733-9d30-47fc-b8d9-3bbef0970e26",
   "metadata": {},
   "outputs": [],
   "source": [
    "X = df.drop(labels=\"labels\", axis=1)\n",
    "Y = df[\"labels\"]"
   ]
  },
  {
   "cell_type": "code",
   "execution_count": 7,
   "id": "68c32f0f-1a2a-45c9-8fce-1a0b40168fa4",
   "metadata": {},
   "outputs": [],
   "source": [
    "encoder = OneHotEncoder()\n",
    "Y = encoder.fit_transform(np.array(Y).reshape(-1,1)).toarray()"
   ]
  },
  {
   "cell_type": "code",
   "execution_count": 8,
   "id": "1c5a99c9-33db-4859-a43e-da01c32444ad",
   "metadata": {},
   "outputs": [
    {
     "data": {
      "text/plain": [
       "((38918, 2160), (9730, 2160), (38918, 7), (9730, 7))"
      ]
     },
     "execution_count": 8,
     "metadata": {},
     "output_type": "execute_result"
    }
   ],
   "source": [
    "X_train, X_test, y_train, y_test = train_test_split(X, Y, random_state=42, test_size=0.2, shuffle=True)\n",
    "X_train.shape, X_test.shape, y_train.shape, y_test.shape"
   ]
  },
  {
   "cell_type": "code",
   "execution_count": 9,
   "id": "6bc10442-8c1c-41bf-939c-9ed4985dd651",
   "metadata": {},
   "outputs": [
    {
     "data": {
      "text/plain": [
       "((35026, 2160), (9730, 2160), (3892, 2160), (35026, 7), (9730, 7), (3892, 7))"
      ]
     },
     "execution_count": 9,
     "metadata": {},
     "output_type": "execute_result"
    }
   ],
   "source": [
    "X_train, X_val, y_train, y_val = train_test_split(X_train, y_train, random_state=42, test_size=0.1, shuffle=True)\n",
    "X_train.shape, X_test.shape, X_val.shape, y_train.shape, y_test.shape, y_val.shape"
   ]
  },
  {
   "cell_type": "code",
   "execution_count": 10,
   "id": "3438062b-aef6-4dfb-81a5-14d62f2c4714",
   "metadata": {},
   "outputs": [
    {
     "data": {
      "text/plain": [
       "((35026, 2160), (9730, 2160), (3892, 2160), (35026, 7), (9730, 7), (3892, 7))"
      ]
     },
     "execution_count": 10,
     "metadata": {},
     "output_type": "execute_result"
    }
   ],
   "source": [
    "scaler = StandardScaler()\n",
    "X_train = scaler.fit_transform(X_train)\n",
    "X_test = scaler.transform(X_test)\n",
    "X_val = scaler.transform(X_val)\n",
    "X_train.shape, X_test.shape, X_val.shape, y_train.shape, y_test.shape, y_val.shape"
   ]
  },
  {
   "cell_type": "code",
   "execution_count": 11,
   "id": "148f586b-3e6e-42b9-bb8f-cf027ea464ea",
   "metadata": {},
   "outputs": [
    {
     "data": {
      "text/plain": [
       "['scaler.pkl']"
      ]
     },
     "execution_count": 11,
     "metadata": {},
     "output_type": "execute_result"
    }
   ],
   "source": [
    "joblib.dump(scaler,'scaler.pkl')"
   ]
  },
  {
   "cell_type": "code",
   "execution_count": 12,
   "id": "4ba07137-b1b3-40df-b6c6-588fbfd3078b",
   "metadata": {},
   "outputs": [
    {
     "data": {
      "text/plain": [
       "(35026, 2160, 1)"
      ]
     },
     "execution_count": 12,
     "metadata": {},
     "output_type": "execute_result"
    }
   ],
   "source": [
    "# We have to use 1-dimensional CNN which need specifical shape:\n",
    "X_train = np.expand_dims(X_train, axis=2)\n",
    "X_val = np.expand_dims(X_val, axis=2)\n",
    "X_test = np.expand_dims(X_test, axis=2)\n",
    "X_train.shape"
   ]
  },
  {
   "cell_type": "markdown",
   "id": "003c55b4-7a1d-49d8-964f-f581ca1432a0",
   "metadata": {},
   "source": [
    "##### 2. Model with feature zrc"
   ]
  },
  {
   "cell_type": "code",
   "execution_count": 13,
   "id": "d22f89e5-b248-478b-8f60-7e92a01d0813",
   "metadata": {},
   "outputs": [],
   "source": [
    "earlystopping = EarlyStopping(\n",
    "                        monitor =\"val_acc\",\n",
    "                        mode = 'auto', patience = 5,\n",
    "                        restore_best_weights = True\n",
    "                    )"
   ]
  },
  {
   "cell_type": "code",
   "execution_count": 14,
   "id": "659be4b8-4a79-4e60-b909-65c802282a55",
   "metadata": {},
   "outputs": [],
   "source": [
    "learning_rate_reduction = ReduceLROnPlateau(\n",
    "                                monitor='val_acc',\n",
    "                                patience=3,\n",
    "                                verbose=1,\n",
    "                                factor=0.5,\n",
    "                                min_lr=0.00001\n",
    "                            )"
   ]
  },
  {
   "cell_type": "code",
   "execution_count": 15,
   "id": "9bf084a1-eade-43fe-87a9-0585ea3e866a",
   "metadata": {},
   "outputs": [
    {
     "name": "stderr",
     "output_type": "stream",
     "text": [
      "2024-03-22 00:30:51.043286: I tensorflow/compiler/xla/stream_executor/cuda/cuda_gpu_executor.cc:981] successful NUMA node read from SysFS had negative value (-1), but there must be at least one NUMA node, so returning NUMA node zero\n",
      "2024-03-22 00:30:51.058483: I tensorflow/compiler/xla/stream_executor/cuda/cuda_gpu_executor.cc:981] successful NUMA node read from SysFS had negative value (-1), but there must be at least one NUMA node, so returning NUMA node zero\n",
      "2024-03-22 00:30:51.059133: I tensorflow/compiler/xla/stream_executor/cuda/cuda_gpu_executor.cc:981] successful NUMA node read from SysFS had negative value (-1), but there must be at least one NUMA node, so returning NUMA node zero\n",
      "2024-03-22 00:30:51.060702: I tensorflow/core/platform/cpu_feature_guard.cc:193] This TensorFlow binary is optimized with oneAPI Deep Neural Network Library (oneDNN) to use the following CPU instructions in performance-critical operations:  AVX2 FMA\n",
      "To enable them in other operations, rebuild TensorFlow with the appropriate compiler flags.\n",
      "2024-03-22 00:30:51.063441: I tensorflow/compiler/xla/stream_executor/cuda/cuda_gpu_executor.cc:981] successful NUMA node read from SysFS had negative value (-1), but there must be at least one NUMA node, so returning NUMA node zero\n",
      "2024-03-22 00:30:51.064013: I tensorflow/compiler/xla/stream_executor/cuda/cuda_gpu_executor.cc:981] successful NUMA node read from SysFS had negative value (-1), but there must be at least one NUMA node, so returning NUMA node zero\n",
      "2024-03-22 00:30:51.064527: I tensorflow/compiler/xla/stream_executor/cuda/cuda_gpu_executor.cc:981] successful NUMA node read from SysFS had negative value (-1), but there must be at least one NUMA node, so returning NUMA node zero\n",
      "2024-03-22 00:30:52.154683: I tensorflow/compiler/xla/stream_executor/cuda/cuda_gpu_executor.cc:981] successful NUMA node read from SysFS had negative value (-1), but there must be at least one NUMA node, so returning NUMA node zero\n",
      "2024-03-22 00:30:52.155490: I tensorflow/compiler/xla/stream_executor/cuda/cuda_gpu_executor.cc:981] successful NUMA node read from SysFS had negative value (-1), but there must be at least one NUMA node, so returning NUMA node zero\n",
      "2024-03-22 00:30:52.156067: I tensorflow/compiler/xla/stream_executor/cuda/cuda_gpu_executor.cc:981] successful NUMA node read from SysFS had negative value (-1), but there must be at least one NUMA node, so returning NUMA node zero\n",
      "2024-03-22 00:30:52.156467: I tensorflow/core/common_runtime/gpu/gpu_device.cc:1613] Created device /job:localhost/replica:0/task:0/device:GPU:0 with 4619 MB memory:  -> device: 0, name: NVIDIA GeForce RTX 2060 with Max-Q Design, pci bus id: 0000:01:00.0, compute capability: 7.5\n"
     ]
    },
    {
     "name": "stdout",
     "output_type": "stream",
     "text": [
      "Model: \"sequential\"\n",
      "_________________________________________________________________\n",
      " Layer (type)                Output Shape              Param #   \n",
      "=================================================================\n",
      " conv1d (Conv1D)             (None, 2160, 512)         3072      \n",
      "                                                                 \n",
      " batch_normalization (BatchN  (None, 2160, 512)        2048      \n",
      " ormalization)                                                   \n",
      "                                                                 \n",
      " max_pooling1d (MaxPooling1D  (None, 1080, 512)        0         \n",
      " )                                                               \n",
      "                                                                 \n",
      " conv1d_1 (Conv1D)           (None, 1080, 512)         1311232   \n",
      "                                                                 \n",
      " batch_normalization_1 (Batc  (None, 1080, 512)        2048      \n",
      " hNormalization)                                                 \n",
      "                                                                 \n",
      " max_pooling1d_1 (MaxPooling  (None, 540, 512)         0         \n",
      " 1D)                                                             \n",
      "                                                                 \n",
      " dropout (Dropout)           (None, 540, 512)          0         \n",
      "                                                                 \n",
      " conv1d_2 (Conv1D)           (None, 540, 256)          655616    \n",
      "                                                                 \n",
      " batch_normalization_2 (Batc  (None, 540, 256)         1024      \n",
      " hNormalization)                                                 \n",
      "                                                                 \n",
      " max_pooling1d_2 (MaxPooling  (None, 270, 256)         0         \n",
      " 1D)                                                             \n",
      "                                                                 \n",
      " conv1d_3 (Conv1D)           (None, 270, 256)          196864    \n",
      "                                                                 \n",
      " batch_normalization_3 (Batc  (None, 270, 256)         1024      \n",
      " hNormalization)                                                 \n",
      "                                                                 \n",
      " max_pooling1d_3 (MaxPooling  (None, 135, 256)         0         \n",
      " 1D)                                                             \n",
      "                                                                 \n",
      " dropout_1 (Dropout)         (None, 135, 256)          0         \n",
      "                                                                 \n",
      " conv1d_4 (Conv1D)           (None, 135, 128)          98432     \n",
      "                                                                 \n",
      " batch_normalization_4 (Batc  (None, 135, 128)         512       \n",
      " hNormalization)                                                 \n",
      "                                                                 \n",
      " max_pooling1d_4 (MaxPooling  (None, 68, 128)          0         \n",
      " 1D)                                                             \n",
      "                                                                 \n",
      " flatten (Flatten)           (None, 8704)              0         \n",
      "                                                                 \n",
      " dense (Dense)               (None, 512)               4456960   \n",
      "                                                                 \n",
      " batch_normalization_5 (Batc  (None, 512)              2048      \n",
      " hNormalization)                                                 \n",
      "                                                                 \n",
      " dense_1 (Dense)             (None, 7)                 3591      \n",
      "                                                                 \n",
      "=================================================================\n",
      "Total params: 6,734,471\n",
      "Trainable params: 6,730,119\n",
      "Non-trainable params: 4,352\n",
      "_________________________________________________________________\n"
     ]
    }
   ],
   "source": [
    "model = models.Sequential()\n",
    "model.add(layers.Conv1D(512, kernel_size=5, strides=1, padding=\"same\", activation=\"relu\", input_shape=(X_train.shape[1], 1)))\n",
    "model.add(layers.BatchNormalization())\n",
    "model.add(layers.MaxPool1D(pool_size=5, strides=2, padding=\"same\"))\n",
    "\n",
    "model.add(layers.Conv1D(512, kernel_size=5, strides=1, padding=\"same\", activation=\"relu\"))\n",
    "model.add(layers.BatchNormalization())\n",
    "model.add(layers.MaxPool1D(pool_size=5, strides=2, padding=\"same\"))\n",
    "model.add(layers.Dropout(0.1))\n",
    "\n",
    "\n",
    "model.add(layers.Conv1D(256, kernel_size=5, strides=1, padding=\"same\", activation=\"relu\"))\n",
    "model.add(layers.BatchNormalization())\n",
    "model.add(layers.MaxPool1D(pool_size=5, strides=2, padding=\"same\"))\n",
    "\n",
    "model.add(layers.Conv1D(256, kernel_size=3, strides=1, padding='same', activation='relu'))\n",
    "model.add(layers.BatchNormalization())\n",
    "model.add(layers.MaxPooling1D(pool_size=5, strides = 2, padding = 'same'))\n",
    "model.add(layers.Dropout(0.1))\n",
    "\n",
    "\n",
    "model.add(layers.Conv1D(128, kernel_size=3, strides=1, padding='same', activation='relu'))\n",
    "model.add(layers.BatchNormalization())\n",
    "model.add(layers.MaxPooling1D(pool_size=3, strides = 2, padding = 'same'))\n",
    "\n",
    "model.add(layers.Flatten())\n",
    "model.add(layers.Dense(512, activation='relu'))\n",
    "model.add(layers.BatchNormalization())\n",
    "model.add(layers.Dense(7, activation=\"softmax\"))\n",
    "model.compile(optimizer=\"rmsprop\", loss=\"categorical_crossentropy\", metrics=[\"acc\"])\n",
    "model.summary()"
   ]
  },
  {
   "cell_type": "code",
   "execution_count": null,
   "id": "2edc269a-7297-4c9d-b959-6aae45bafa91",
   "metadata": {},
   "outputs": [
    {
     "name": "stdout",
     "output_type": "stream",
     "text": [
      "Epoch 1/50\n"
     ]
    },
    {
     "name": "stderr",
     "output_type": "stream",
     "text": [
      "2024-03-22 00:31:02.871704: I tensorflow/compiler/xla/stream_executor/cuda/cuda_dnn.cc:428] Loaded cuDNN version 8100\n",
      "2024-03-22 00:31:07.147277: I tensorflow/compiler/xla/service/service.cc:173] XLA service 0x3017f4d0 initialized for platform CUDA (this does not guarantee that XLA will be used). Devices:\n",
      "2024-03-22 00:31:07.147339: I tensorflow/compiler/xla/service/service.cc:181]   StreamExecutor device (0): NVIDIA GeForce RTX 2060 with Max-Q Design, Compute Capability 7.5\n",
      "2024-03-22 00:31:07.159006: I tensorflow/compiler/mlir/tensorflow/utils/dump_mlir_util.cc:268] disabling MLIR crash reproducer, set env var `MLIR_CRASH_REPRODUCER_DIRECTORY` to enable.\n",
      "2024-03-22 00:31:07.438225: I tensorflow/compiler/jit/xla_compilation_cache.cc:477] Compiled cluster using XLA!  This line is logged at most once for the lifetime of the process.\n"
     ]
    },
    {
     "name": "stdout",
     "output_type": "stream",
     "text": [
      "302/548 [===============>..............] - ETA: 5:20 - loss: 1.5141 - acc: 0.4530"
     ]
    }
   ],
   "source": [
    "with tf.device('/GPU:0'):\n",
    "    history = model.fit(X_train, y_train, validation_data=(X_val, y_val),callbacks=[learning_rate_reduction, earlystopping],\n",
    "                    epochs=50, batch_size=64)"
   ]
  },
  {
   "cell_type": "code",
   "execution_count": null,
   "id": "cbae48a2-6a09-46e2-ac82-81affde5bc3b",
   "metadata": {},
   "outputs": [],
   "source": [
    "print(\"Accuracy of our model on test data : \" , model.evaluate(X_test,y_test)[1]*100 , \"%\")\n",
    "\n",
    "fig , ax = plt.subplots(1,2)\n",
    "train_acc = history.history['acc']\n",
    "train_loss = history.history['loss']\n",
    "test_acc = history.history['val_acc']\n",
    "test_loss = history.history['val_loss']\n",
    "\n",
    "fig.set_size_inches(20,6)\n",
    "ax[0].plot(train_loss, label = 'Training Loss')\n",
    "ax[0].plot(test_loss , label = 'Testing Loss')\n",
    "ax[0].set_title('Training & Testing Loss')\n",
    "ax[0].legend()\n",
    "ax[0].set_xlabel(\"Epochs\")\n",
    "\n",
    "ax[1].plot(train_acc, label = 'Training Accuracy')\n",
    "ax[1].plot(test_acc , label = 'Testing Accuracy')\n",
    "ax[1].set_title('Training & Testing Accuracy')\n",
    "ax[1].legend()\n",
    "ax[1].set_xlabel(\"Epochs\")\n",
    "plt.show()"
   ]
  },
  {
   "cell_type": "code",
   "execution_count": null,
   "id": "9ef53ce0-d51f-486a-a555-63ad361d4fa9",
   "metadata": {},
   "outputs": [],
   "source": [
    "# predicting on test data.\n",
    "pred_test = model.predict(X_test)\n",
    "y_pred = encoder.inverse_transform(pred_test)\n",
    "\n",
    "y_test1 = encoder.inverse_transform(y_test)"
   ]
  },
  {
   "cell_type": "code",
   "execution_count": null,
   "id": "abffc6e3-48bc-4543-9778-020159dfdc5f",
   "metadata": {},
   "outputs": [],
   "source": [
    "df = pd.DataFrame(columns=['Predicted Labels', 'Actual Labels'])\n",
    "df['Predicted Labels'] = y_pred.flatten()\n",
    "df['Actual Labels'] = y_test1.flatten()\n",
    "\n",
    "df.head(10)"
   ]
  },
  {
   "cell_type": "code",
   "execution_count": null,
   "id": "dac94255-c9f2-4ca8-aa08-90760bd8832b",
   "metadata": {},
   "outputs": [],
   "source": [
    "def plot_confusion_matrix(cm, classes,\n",
    "                        normalize=False,\n",
    "                        title='Confusion matrix',\n",
    "                        cmap=plt.cm.Blues):\n",
    "    \"\"\"\n",
    "    This function prints and plots the confusion matrix.\n",
    "    Normalization can be applied by setting `normalize=True`.\n",
    "    \"\"\"\n",
    "    plt.imshow(cm, interpolation='nearest', cmap=cmap)\n",
    "    plt.title(title)\n",
    "    plt.colorbar()\n",
    "    tick_marks = np.arange(len(classes))\n",
    "    plt.xticks(tick_marks, classes, rotation=45)\n",
    "    plt.yticks(tick_marks, classes)\n",
    "\n",
    "    if normalize:\n",
    "        cm = cm.astype('float') / cm.sum(axis=1)[:, np.newaxis]\n",
    "        print(\"Normalized confusion matrix\")\n",
    "    else:\n",
    "        print('Confusion matrix, without normalization')\n",
    "\n",
    "    print(cm)\n",
    "\n",
    "    thresh = cm.max() / 2.\n",
    "    for i, j in itertools.product(range(cm.shape[0]), range(cm.shape[1])):\n",
    "        plt.text(j, i, cm[i, j],\n",
    "            horizontalalignment=\"center\",\n",
    "            color=\"white\" if cm[i, j] > thresh else \"black\")\n",
    "\n",
    "    plt.tight_layout()\n",
    "    plt.ylabel('True label')\n",
    "    plt.xlabel('Predicted label')"
   ]
  },
  {
   "cell_type": "code",
   "execution_count": null,
   "id": "b703b36f-81d7-4ea8-ac7c-2ab2e0f576ee",
   "metadata": {},
   "outputs": [],
   "source": [
    "cm = confusion_matrix(y_test1, y_pred)\n",
    "cm_plot_labels = ['angry', 'disgust', 'fear', 'happy', 'neutral', 'sad', 'surprise']\n",
    "plot_confusion_matrix(cm=cm, classes=cm_plot_labels, title='Confusion Matrix')"
   ]
  },
  {
   "cell_type": "code",
   "execution_count": null,
   "id": "cffaa5ef-0eec-4d3f-901d-6dd75f02319a",
   "metadata": {},
   "outputs": [],
   "source": [
    "from sklearn.metrics import classification_report\n",
    "print(f'Model Confusion Matrix\\n',classification_report(y_test1,y_pred,target_names=cm_plot_labels))"
   ]
  },
  {
   "cell_type": "code",
   "execution_count": null,
   "id": "427f987c-d4b9-4cd1-a6e0-4120b1402308",
   "metadata": {},
   "outputs": [],
   "source": [
    "# save model\n",
    "model.save(\"./model_mfcc.h5\")"
   ]
  },
  {
   "cell_type": "code",
   "execution_count": 26,
   "id": "ddfe0b25-bc44-4e17-9eb3-dc88b669ffd9",
   "metadata": {},
   "outputs": [
    {
     "data": {
      "text/plain": [
       "['encoder_all.pkl']"
      ]
     },
     "execution_count": 26,
     "metadata": {},
     "output_type": "execute_result"
    }
   ],
   "source": [
    "# save encoder\n",
    "joblib.dump(encoder,'encoder_all.pkl')"
   ]
  }
 ],
 "metadata": {
  "kernelspec": {
   "display_name": "Python 3 (ipykernel)",
   "language": "python",
   "name": "python3"
  },
  "language_info": {
   "codemirror_mode": {
    "name": "ipython",
    "version": 3
   },
   "file_extension": ".py",
   "mimetype": "text/x-python",
   "name": "python",
   "nbconvert_exporter": "python",
   "pygments_lexer": "ipython3",
   "version": "3.9.18"
  }
 },
 "nbformat": 4,
 "nbformat_minor": 5
}
